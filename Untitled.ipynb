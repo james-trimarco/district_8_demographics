{
 "cells": [
  {
   "cell_type": "code",
   "execution_count": 1,
   "metadata": {},
   "outputs": [],
   "source": [
    "import pandas as pd\n",
    "import censusdata\n",
    "import seaborn as sns"
   ]
  },
  {
   "cell_type": "code",
   "execution_count": 84,
   "metadata": {},
   "outputs": [
    {
     "data": {
      "text/plain": [
       "[('B25026_001E',\n",
       "  'B25026. Total Population in Occupied Housing Units by Tenure by Year Householder Moved Into Unit',\n",
       "  'Total population in occupied housing units:'),\n",
       " ('B25026_001M',\n",
       "  'B25026. Total Population in Occupied Housing Units by Tenure by Year Householder Moved Into Unit',\n",
       "  'Margin of Error for!!Total population in occupied housing units:'),\n",
       " ('B25026_002E',\n",
       "  'B25026. Total Population in Occupied Housing Units by Tenure by Year Householder Moved Into Unit',\n",
       "  'Total population in occupied housing units:!!Owner occupied:'),\n",
       " ('B25026_002M',\n",
       "  'B25026. Total Population in Occupied Housing Units by Tenure by Year Householder Moved Into Unit',\n",
       "  'Margin of Error for!!Total population in occupied housing units:!!Owner occupied:'),\n",
       " ('B25026_003E',\n",
       "  'B25026. Total Population in Occupied Housing Units by Tenure by Year Householder Moved Into Unit',\n",
       "  'Total population in occupied housing units:!!Owner occupied:!!Moved in 2015 or later'),\n",
       " ('B25026_003M',\n",
       "  'B25026. Total Population in Occupied Housing Units by Tenure by Year Householder Moved Into Unit',\n",
       "  'Margin of Error for!!Total population in occupied housing units:!!Owner occupied:!!Moved in 2015 or later'),\n",
       " ('B25026_004E',\n",
       "  'B25026. Total Population in Occupied Housing Units by Tenure by Year Householder Moved Into Unit',\n",
       "  'Total population in occupied housing units:!!Owner occupied:!!Moved in 2010 to 2014'),\n",
       " ('B25026_004M',\n",
       "  'B25026. Total Population in Occupied Housing Units by Tenure by Year Householder Moved Into Unit',\n",
       "  'Margin of Error for!!Total population in occupied housing units:!!Owner occupied:!!Moved in 2010 to 2014'),\n",
       " ('B25026_005E',\n",
       "  'B25026. Total Population in Occupied Housing Units by Tenure by Year Householder Moved Into Unit',\n",
       "  'Total population in occupied housing units:!!Owner occupied:!!Moved in 2000 to 2009'),\n",
       " ('B25026_005M',\n",
       "  'B25026. Total Population in Occupied Housing Units by Tenure by Year Householder Moved Into Unit',\n",
       "  'Margin of Error for!!Total population in occupied housing units:!!Owner occupied:!!Moved in 2000 to 2009'),\n",
       " ('B25026_006E',\n",
       "  'B25026. Total Population in Occupied Housing Units by Tenure by Year Householder Moved Into Unit',\n",
       "  'Total population in occupied housing units:!!Owner occupied:!!Moved in 1990 to 1999'),\n",
       " ('B25026_006M',\n",
       "  'B25026. Total Population in Occupied Housing Units by Tenure by Year Householder Moved Into Unit',\n",
       "  'Margin of Error for!!Total population in occupied housing units:!!Owner occupied:!!Moved in 1990 to 1999'),\n",
       " ('B25026_007E',\n",
       "  'B25026. Total Population in Occupied Housing Units by Tenure by Year Householder Moved Into Unit',\n",
       "  'Total population in occupied housing units:!!Owner occupied:!!Moved in 1980 to 1989'),\n",
       " ('B25026_007M',\n",
       "  'B25026. Total Population in Occupied Housing Units by Tenure by Year Householder Moved Into Unit',\n",
       "  'Margin of Error for!!Total population in occupied housing units:!!Owner occupied:!!Moved in 1980 to 1989'),\n",
       " ('B25026_008E',\n",
       "  'B25026. Total Population in Occupied Housing Units by Tenure by Year Householder Moved Into Unit',\n",
       "  'Total population in occupied housing units:!!Owner occupied:!!Moved in 1979 or earlier'),\n",
       " ('B25026_008M',\n",
       "  'B25026. Total Population in Occupied Housing Units by Tenure by Year Householder Moved Into Unit',\n",
       "  'Margin of Error for!!Total population in occupied housing units:!!Owner occupied:!!Moved in 1979 or earlier'),\n",
       " ('B25026_009E',\n",
       "  'B25026. Total Population in Occupied Housing Units by Tenure by Year Householder Moved Into Unit',\n",
       "  'Total population in occupied housing units:!!Renter occupied:'),\n",
       " ('B25026_009M',\n",
       "  'B25026. Total Population in Occupied Housing Units by Tenure by Year Householder Moved Into Unit',\n",
       "  'Margin of Error for!!Total population in occupied housing units:!!Renter occupied:'),\n",
       " ('B25026_010E',\n",
       "  'B25026. Total Population in Occupied Housing Units by Tenure by Year Householder Moved Into Unit',\n",
       "  'Total population in occupied housing units:!!Renter occupied:!!Moved in 2015 or later'),\n",
       " ('B25026_010M',\n",
       "  'B25026. Total Population in Occupied Housing Units by Tenure by Year Householder Moved Into Unit',\n",
       "  'Margin of Error for!!Total population in occupied housing units:!!Renter occupied:!!Moved in 2015 or later'),\n",
       " ('B25026_011E',\n",
       "  'B25026. Total Population in Occupied Housing Units by Tenure by Year Householder Moved Into Unit',\n",
       "  'Total population in occupied housing units:!!Renter occupied:!!Moved in 2010 to 2014'),\n",
       " ('B25026_011M',\n",
       "  'B25026. Total Population in Occupied Housing Units by Tenure by Year Householder Moved Into Unit',\n",
       "  'Margin of Error for!!Total population in occupied housing units:!!Renter occupied:!!Moved in 2010 to 2014'),\n",
       " ('B25026_012E',\n",
       "  'B25026. Total Population in Occupied Housing Units by Tenure by Year Householder Moved Into Unit',\n",
       "  'Total population in occupied housing units:!!Renter occupied:!!Moved in 2000 to 2009'),\n",
       " ('B25026_012M',\n",
       "  'B25026. Total Population in Occupied Housing Units by Tenure by Year Householder Moved Into Unit',\n",
       "  'Margin of Error for!!Total population in occupied housing units:!!Renter occupied:!!Moved in 2000 to 2009'),\n",
       " ('B25026_013E',\n",
       "  'B25026. Total Population in Occupied Housing Units by Tenure by Year Householder Moved Into Unit',\n",
       "  'Total population in occupied housing units:!!Renter occupied:!!Moved in 1990 to 1999'),\n",
       " ('B25026_013M',\n",
       "  'B25026. Total Population in Occupied Housing Units by Tenure by Year Householder Moved Into Unit',\n",
       "  'Margin of Error for!!Total population in occupied housing units:!!Renter occupied:!!Moved in 1990 to 1999'),\n",
       " ('B25026_014E',\n",
       "  'B25026. Total Population in Occupied Housing Units by Tenure by Year Householder Moved Into Unit',\n",
       "  'Total population in occupied housing units:!!Renter occupied:!!Moved in 1980 to 1989'),\n",
       " ('B25026_014M',\n",
       "  'B25026. Total Population in Occupied Housing Units by Tenure by Year Householder Moved Into Unit',\n",
       "  'Margin of Error for!!Total population in occupied housing units:!!Renter occupied:!!Moved in 1980 to 1989'),\n",
       " ('B25026_015E',\n",
       "  'B25026. Total Population in Occupied Housing Units by Tenure by Year Householder Moved Into Unit',\n",
       "  'Total population in occupied housing units:!!Renter occupied:!!Moved in 1979 or earlier'),\n",
       " ('B25026_015M',\n",
       "  'B25026. Total Population in Occupied Housing Units by Tenure by Year Householder Moved Into Unit',\n",
       "  'Margin of Error for!!Total population in occupied housing units:!!Renter occupied:!!Moved in 1979 or earlier')]"
      ]
     },
     "execution_count": 84,
     "metadata": {},
     "output_type": "execute_result"
    }
   ],
   "source": [
    "censusdata.search('acs5', 2015, 'label', 'total population')"
   ]
  },
  {
   "cell_type": "code",
   "execution_count": 3,
   "metadata": {},
   "outputs": [
    {
     "data": {
      "text/plain": [
       "censusgeo((('state', '12'),))"
      ]
     },
     "execution_count": 3,
     "metadata": {},
     "output_type": "execute_result"
    }
   ],
   "source": [
    "states = censusdata.geographies(censusdata.censusgeo([(\"state\", \"*\")]), \"acs5\", 2015)\n",
    "states[\"Florida\"]"
   ]
  },
  {
   "cell_type": "markdown",
   "metadata": {},
   "source": [
    "Get census tract map [from this page](https://www2.census.gov/geo/maps/dc10map/tract/st12_fl/c12103_pinellas/DC10CT_C12103_002.pdf)."
   ]
  },
  {
   "cell_type": "code",
   "execution_count": 87,
   "metadata": {},
   "outputs": [
    {
     "data": {
      "text/plain": [
       "censusgeo((('state', '12'), ('county', '103')))"
      ]
     },
     "execution_count": 87,
     "metadata": {},
     "output_type": "execute_result"
    }
   ],
   "source": [
    "counties = censusdata.geographies(\n",
    "    censusdata.censusgeo([(\"state\", \"12\"), (\"county\", \"*\")]), \"acs5\", 2015\n",
    ")\n",
    "counties[\"Pinellas County, Florida\"]"
   ]
  },
  {
   "cell_type": "code",
   "execution_count": 100,
   "metadata": {},
   "outputs": [],
   "source": [
    "pinellas_vac = censusdata.download(\n",
    "    \"acs5\",\n",
    "    2015,\n",
    "    censusdata.censusgeo(\n",
    "        [\n",
    "            (\"state\", \"12\"),\n",
    "            (\"county\", \"103\"),\n",
    "            (\"tract\", \"*\"),\n",
    "\n",
    "        ]\n",
    "    ),\n",
    "    [\n",
    "        \"B25001_001E\",  # total housing units\n",
    "        \"B25001_001M\",  # margin\n",
    "        \"B01003_001E\",\n",
    "        \"B02001_002E\",  # whites\n",
    "        \"B02001_003E\",  # blacks\n",
    "\n",
    "    ],\n",
    ")"
   ]
  },
  {
   "cell_type": "code",
   "execution_count": 104,
   "metadata": {},
   "outputs": [],
   "source": [
    "pinellas_vac = pinellas_vac.reset_index()\n",
    "\n",
    "pinellas_vac[\"tract\"] = pinellas_vac[\"index\"].astype(str).str[-6:]\n",
    "cond = pinellas_vac[\"tract\"].isin(\n",
    "    [\"022801\", \"022802\", \"022700\", \"023000\", \"022902\", \"022901\", \"022601\"]\n",
    ")\n",
    "district_8 = pinellas_vac[cond]"
   ]
  },
  {
   "cell_type": "code",
   "execution_count": 105,
   "metadata": {},
   "outputs": [
    {
     "data": {
      "text/html": [
       "<div>\n",
       "<style scoped>\n",
       "    .dataframe tbody tr th:only-of-type {\n",
       "        vertical-align: middle;\n",
       "    }\n",
       "\n",
       "    .dataframe tbody tr th {\n",
       "        vertical-align: top;\n",
       "    }\n",
       "\n",
       "    .dataframe thead th {\n",
       "        text-align: right;\n",
       "    }\n",
       "</style>\n",
       "<table border=\"1\" class=\"dataframe\">\n",
       "  <thead>\n",
       "    <tr style=\"text-align: right;\">\n",
       "      <th></th>\n",
       "      <th>level_0</th>\n",
       "      <th>index</th>\n",
       "      <th>B25001_001E</th>\n",
       "      <th>B25001_001M</th>\n",
       "      <th>B01003_001E</th>\n",
       "      <th>B02001_002E</th>\n",
       "      <th>B02001_003E</th>\n",
       "      <th>tract</th>\n",
       "    </tr>\n",
       "  </thead>\n",
       "  <tbody>\n",
       "    <tr>\n",
       "      <th>33</th>\n",
       "      <td>33</td>\n",
       "      <td>Census Tract 226.01, Pinellas County, Florida:...</td>\n",
       "      <td>1677</td>\n",
       "      <td>48</td>\n",
       "      <td>3202</td>\n",
       "      <td>2874</td>\n",
       "      <td>153</td>\n",
       "      <td>022601</td>\n",
       "    </tr>\n",
       "    <tr>\n",
       "      <th>35</th>\n",
       "      <td>35</td>\n",
       "      <td>Census Tract 227, Pinellas County, Florida: Su...</td>\n",
       "      <td>1936</td>\n",
       "      <td>66</td>\n",
       "      <td>4247</td>\n",
       "      <td>3474</td>\n",
       "      <td>334</td>\n",
       "      <td>022700</td>\n",
       "    </tr>\n",
       "    <tr>\n",
       "      <th>36</th>\n",
       "      <td>36</td>\n",
       "      <td>Census Tract 228.01, Pinellas County, Florida:...</td>\n",
       "      <td>2068</td>\n",
       "      <td>32</td>\n",
       "      <td>4607</td>\n",
       "      <td>3726</td>\n",
       "      <td>430</td>\n",
       "      <td>022801</td>\n",
       "    </tr>\n",
       "    <tr>\n",
       "      <th>37</th>\n",
       "      <td>37</td>\n",
       "      <td>Census Tract 228.02, Pinellas County, Florida:...</td>\n",
       "      <td>1313</td>\n",
       "      <td>52</td>\n",
       "      <td>3578</td>\n",
       "      <td>2728</td>\n",
       "      <td>124</td>\n",
       "      <td>022802</td>\n",
       "    </tr>\n",
       "    <tr>\n",
       "      <th>38</th>\n",
       "      <td>38</td>\n",
       "      <td>Census Tract 229.01, Pinellas County, Florida:...</td>\n",
       "      <td>1343</td>\n",
       "      <td>53</td>\n",
       "      <td>2911</td>\n",
       "      <td>1772</td>\n",
       "      <td>419</td>\n",
       "      <td>022901</td>\n",
       "    </tr>\n",
       "    <tr>\n",
       "      <th>39</th>\n",
       "      <td>39</td>\n",
       "      <td>Census Tract 229.02, Pinellas County, Florida:...</td>\n",
       "      <td>1183</td>\n",
       "      <td>48</td>\n",
       "      <td>2503</td>\n",
       "      <td>1828</td>\n",
       "      <td>200</td>\n",
       "      <td>022902</td>\n",
       "    </tr>\n",
       "    <tr>\n",
       "      <th>40</th>\n",
       "      <td>40</td>\n",
       "      <td>Census Tract 230, Pinellas County, Florida: Su...</td>\n",
       "      <td>1065</td>\n",
       "      <td>39</td>\n",
       "      <td>2493</td>\n",
       "      <td>1982</td>\n",
       "      <td>69</td>\n",
       "      <td>023000</td>\n",
       "    </tr>\n",
       "  </tbody>\n",
       "</table>\n",
       "</div>"
      ],
      "text/plain": [
       "    level_0                                              index  B25001_001E  \\\n",
       "33       33  Census Tract 226.01, Pinellas County, Florida:...         1677   \n",
       "35       35  Census Tract 227, Pinellas County, Florida: Su...         1936   \n",
       "36       36  Census Tract 228.01, Pinellas County, Florida:...         2068   \n",
       "37       37  Census Tract 228.02, Pinellas County, Florida:...         1313   \n",
       "38       38  Census Tract 229.01, Pinellas County, Florida:...         1343   \n",
       "39       39  Census Tract 229.02, Pinellas County, Florida:...         1183   \n",
       "40       40  Census Tract 230, Pinellas County, Florida: Su...         1065   \n",
       "\n",
       "    B25001_001M  B01003_001E  B02001_002E  B02001_003E   tract  \n",
       "33           48         3202         2874          153  022601  \n",
       "35           66         4247         3474          334  022700  \n",
       "36           32         4607         3726          430  022801  \n",
       "37           52         3578         2728          124  022802  \n",
       "38           53         2911         1772          419  022901  \n",
       "39           48         2503         1828          200  022902  \n",
       "40           39         2493         1982           69  023000  "
      ]
     },
     "execution_count": 105,
     "metadata": {},
     "output_type": "execute_result"
    }
   ],
   "source": [
    "# district_8[\"percent_white\"] = district_8[\"B02001_002E\"] / district_8[\"B01003_001E\"]\n",
    "district_8"
   ]
  },
  {
   "cell_type": "code",
   "execution_count": null,
   "metadata": {},
   "outputs": [],
   "source": []
  }
 ],
 "metadata": {
  "kernelspec": {
   "display_name": "Python 3",
   "language": "python",
   "name": "python3"
  },
  "language_info": {
   "codemirror_mode": {
    "name": "ipython",
    "version": 3
   },
   "file_extension": ".py",
   "mimetype": "text/x-python",
   "name": "python",
   "nbconvert_exporter": "python",
   "pygments_lexer": "ipython3",
   "version": "3.7.8"
  },
  "toc": {
   "base_numbering": 1,
   "nav_menu": {},
   "number_sections": true,
   "sideBar": true,
   "skip_h1_title": false,
   "title_cell": "Table of Contents",
   "title_sidebar": "Contents",
   "toc_cell": false,
   "toc_position": {},
   "toc_section_display": true,
   "toc_window_display": false
  }
 },
 "nbformat": 4,
 "nbformat_minor": 4
}
